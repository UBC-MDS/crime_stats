{
 "cells": [
  {
   "cell_type": "code",
   "execution_count": 9,
   "metadata": {},
   "outputs": [],
   "source": [
    "import sys\n",
    "import pdfplumber\n",
    "import pandas as pd\n",
    "\n",
    "from pathlib import Path\n",
    "support_functions = Path('../src/functions').resolve()\n",
    "sys.path.append(str(support_functions))\n",
    "\n",
    "import support as supp"
   ]
  },
  {
   "cell_type": "code",
   "execution_count": 10,
   "metadata": {},
   "outputs": [
    {
     "name": "stdout",
     "output_type": "stream",
     "text": [
      "Jan 2023\n",
      "Feb 2023\n",
      "Mar 2023\n",
      "Apr 2023\n",
      "May 2023\n",
      "Jun 2023\n",
      "Jul 2023\n",
      "Aug 2023\n",
      "Sep 2023\n",
      "Oct 2023\n",
      "Nov 2023\n",
      "Dec 2023\n",
      "Jan 2024\n",
      "Feb 2024\n",
      "Mar 2024\n",
      "Apr 2024\n",
      "May 2024\n",
      "Jun 2024\n",
      "Jul 2024\n",
      "Aug 2024\n",
      "Sep 2024\n",
      "Oct 2024\n",
      "Nov 2024\n",
      "Dec 2024\n",
      "Jan 2025\n"
     ]
    }
   ],
   "source": [
    "start_month = 1\n",
    "start_year = 2023\n",
    "end_month = 1\n",
    "end_year = 2025\n",
    "\n",
    "gen = supp.month_year_generator(start_month, start_year, end_month, end_year)\n",
    "\n",
    "\n",
    "for month, year in gen:\n",
    "    print(month,year)"
   ]
  },
  {
   "cell_type": "code",
   "execution_count": 20,
   "metadata": {},
   "outputs": [],
   "source": [
    "start_month = 1\n",
    "start_year = 2023\n",
    "end_month = 1\n",
    "end_year = 2025\n",
    "\n",
    "\n",
    "gen = supp.month_year_generator(start_month, start_year, end_month, end_year)\n",
    "\n",
    "combined_df = pd.DataFrame()\n",
    "for month, year in gen:\n",
    "    if month not in ('april', 'june', 'july'):\n",
    "        pdf_path = f\"../data/raw/neighbourhood-stats-{month.lower()}-{year}.pdf\"\n",
    "    else:\n",
    "        pdf_path = f\"../data/raw/neighbourhood-stats-{month.lower()}-{year}.pdf\"\n",
    "\n",
    "    with pdfplumber.open(pdf_path) as pdf:\n",
    "        text_data = []\n",
    "        \n",
    "        for page in pdf.pages:\n",
    "            table = page.extract_table()\n",
    "            if table:\n",
    "                text_data.extend(table)\n",
    "\n",
    "    columns = [\"Neighbourhood\", \"Sex Offences\", \"Assaults\", \"Robbery\", \"B&E\", \n",
    "            \"Theft of MV\", \"Theft from Auto\", \"Theft >$5K\", \"Arson\", \n",
    "            \"Mischief\", \"Offensive Weapons\"]\n",
    "    df = pd.DataFrame(text_data[1:], columns=columns)  \n",
    "    df = df.dropna()\n",
    "    df['year'] = year\n",
    "    df['month'] = month.lower()\n",
    "    combined_df = pd.concat([combined_df, df])\n",
    "    \n"
   ]
  },
  {
   "cell_type": "code",
   "execution_count": 21,
   "metadata": {},
   "outputs": [],
   "source": [
    "combined_df = combined_df.reset_index(drop=True)\n",
    "combined_df = combined_df.dropna()"
   ]
  },
  {
   "cell_type": "code",
   "execution_count": 22,
   "metadata": {},
   "outputs": [],
   "source": [
    "combined_df.to_csv('../data/processed/combined.csv')"
   ]
  }
 ],
 "metadata": {
  "kernelspec": {
   "display_name": "test_env",
   "language": "python",
   "name": "python3"
  },
  "language_info": {
   "codemirror_mode": {
    "name": "ipython",
    "version": 3
   },
   "file_extension": ".py",
   "mimetype": "text/x-python",
   "name": "python",
   "nbconvert_exporter": "python",
   "pygments_lexer": "ipython3",
   "version": "3.13.1"
  }
 },
 "nbformat": 4,
 "nbformat_minor": 2
}
