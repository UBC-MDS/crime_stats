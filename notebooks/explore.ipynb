{
 "cells": [
  {
   "cell_type": "code",
   "execution_count": 40,
   "metadata": {},
   "outputs": [],
   "source": [
    "import sys\n",
    "import pdfplumber\n",
    "import pandas as pd\n",
    "\n",
    "from pathlib import Path\n",
    "support_functions = Path('src/functions').resolve()\n",
    "sys.path.append(str(support_functions))\n",
    "\n",
    "import support as supp"
   ]
  },
  {
   "cell_type": "code",
   "execution_count": 49,
   "metadata": {},
   "outputs": [
    {
     "name": "stdout",
     "output_type": "stream",
     "text": [
      "Jan 2023\n",
      "Feb 2023\n",
      "Mar 2023\n",
      "Apr 2023\n",
      "May 2023\n",
      "Jun 2023\n",
      "Jul 2023\n",
      "Aug 2023\n",
      "Sep 2023\n",
      "Oct 2023\n",
      "Nov 2023\n",
      "Dec 2023\n",
      "Jan 2024\n",
      "Feb 2024\n",
      "Mar 2024\n",
      "Apr 2024\n",
      "May 2024\n",
      "Jun 2024\n",
      "Jul 2024\n",
      "Aug 2024\n",
      "Sep 2024\n",
      "Oct 2024\n",
      "Nov 2024\n",
      "Dec 2024\n",
      "Jan 2025\n"
     ]
    }
   ],
   "source": [
    "start_month = 1\n",
    "start_year = 2023\n",
    "end_month = 1\n",
    "end_year = 2025\n",
    "\n",
    "gen = supp.month_year_generator(start_month, start_year, end_month, end_year)\n",
    "\n",
    "\n",
    "for month, year in gen:\n",
    "    print(month,year)"
   ]
  },
  {
   "cell_type": "code",
   "execution_count": 50,
   "metadata": {},
   "outputs": [
    {
     "name": "stdout",
     "output_type": "stream",
     "text": [
      "                Neighbourhood Sex Offences Assaults Robbery  B&E Theft of MV  \\\n",
      "0               Arbutus Ridge            1        1       0    5           1   \n",
      "1   Central Business District           14      158      18   55           6   \n",
      "2         Dunbar - Southlands            0        2       1    4           1   \n",
      "3                    Fairview            1       11       0   13           3   \n",
      "4        Grandview - Woodland            4       18       4   21           7   \n",
      "..                        ...          ...      ...     ...  ...         ...   \n",
      "20                     Sunset            5        7       0    8           5   \n",
      "21        Victoria-Fraserview            1        5       0    3           0   \n",
      "22                   West End            5       15       4   18           2   \n",
      "23            West Point Grey            1        1       0    1           1   \n",
      "24                      Total           56      286      46  175          49   \n",
      "\n",
      "   Theft from Auto Theft <$5K Arson Mischief Offensive Weapons  year month  \n",
      "0                4          4     0        6                 0  2023   jan  \n",
      "1              185        240     6      220                22  2023   jan  \n",
      "2                4          5     0        5                 0  2023   jan  \n",
      "3               25         46     0       26                 1  2023   jan  \n",
      "4               41         31     0       21                 4  2023   jan  \n",
      "..             ...        ...   ...      ...               ...   ...   ...  \n",
      "20               9         53     0       14                 0  2025   jan  \n",
      "21              10         12     0        7                 0  2025   jan  \n",
      "22              39         89     5       23                 1  2025   jan  \n",
      "23               3          5     0        5                 0  2025   jan  \n",
      "24             389       1064    29      397                80  2025   jan  \n",
      "\n",
      "[625 rows x 13 columns]\n"
     ]
    }
   ],
   "source": [
    "start_month = 1\n",
    "start_year = 2023\n",
    "end_month = 1\n",
    "end_year = 2025\n",
    "\n",
    "\n",
    "gen = supp.month_year_generator(start_month, start_year, end_month, end_year)\n",
    "\n",
    "combined_df = pd.DataFrame()\n",
    "for month, year in gen:\n",
    "    if month not in ('april', 'june', 'july'):\n",
    "        pdf_path = f\"data/raw/neighbourhood-stats-{month.lower()}-{year}.pdf\"\n",
    "    else:\n",
    "        pdf_path = f\"data/raw/neighbourhood-stats-{month.lower()}-{year}.pdf\"\n",
    "\n",
    "    with pdfplumber.open(pdf_path) as pdf:\n",
    "        text_data = []\n",
    "        \n",
    "        for page in pdf.pages:\n",
    "            table = page.extract_table()\n",
    "            if table:\n",
    "                text_data.extend(table)\n",
    "\n",
    "    columns = [\"Neighbourhood\", \"Sex Offences\", \"Assaults\", \"Robbery\", \"B&E\", \n",
    "            \"Theft of MV\", \"Theft from Auto\", \"Theft <$5K\", \"Arson\", \n",
    "            \"Mischief\", \"Offensive Weapons\"]\n",
    "    df = pd.DataFrame(text_data[1:], columns=columns)  \n",
    "    df['year'] = year\n",
    "    df['month'] = month.lower()\n",
    "    combined_df = pd.concat([combined_df, df])\n",
    "\n",
    "print(combined_df)\n"
   ]
  },
  {
   "cell_type": "code",
   "execution_count": 53,
   "metadata": {},
   "outputs": [],
   "source": [
    "combined_df.to_csv('data/processed/combined.csv')"
   ]
  }
 ],
 "metadata": {
  "kernelspec": {
   "display_name": "test_env",
   "language": "python",
   "name": "python3"
  },
  "language_info": {
   "codemirror_mode": {
    "name": "ipython",
    "version": 3
   },
   "file_extension": ".py",
   "mimetype": "text/x-python",
   "name": "python",
   "nbconvert_exporter": "python",
   "pygments_lexer": "ipython3",
   "version": "3.13.1"
  }
 },
 "nbformat": 4,
 "nbformat_minor": 2
}
